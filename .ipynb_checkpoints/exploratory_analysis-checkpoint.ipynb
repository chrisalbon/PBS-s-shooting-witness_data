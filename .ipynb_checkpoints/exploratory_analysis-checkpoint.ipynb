{
 "metadata": {
  "name": "",
  "signature": "sha256:1ce787f5687e7b04e4d375928fa84f9b6e93c936e8feaee74277538fec371790"
 },
 "nbformat": 3,
 "nbformat_minor": 0,
 "worksheets": [
  {
   "cells": [
    {
     "cell_type": "markdown",
     "metadata": {},
     "source": [
      "# Exploratory Analysis of NPR's Michael Brown Shooting Witness Data\n",
      "\n",
      "- Creator: Chris Albon\n",
      "- Date: November 26, 2014"
     ]
    },
    {
     "cell_type": "code",
     "collapsed": false,
     "input": [
      "import pandas as pd\n",
      "%matplotlib inline"
     ],
     "language": "python",
     "metadata": {},
     "outputs": [],
     "prompt_number": 43
    },
    {
     "cell_type": "code",
     "collapsed": false,
     "input": [
      "df = pd.read_csv('npr_data.csv', encoding='latin')"
     ],
     "language": "python",
     "metadata": {},
     "outputs": [],
     "prompt_number": 44
    },
    {
     "cell_type": "code",
     "collapsed": false,
     "input": [
      "df.columns"
     ],
     "language": "python",
     "metadata": {},
     "outputs": [
      {
       "metadata": {},
       "output_type": "pyout",
       "prompt_number": 51,
       "text": [
        "Index(['witness', 'interview_number', 'date', 'did MB charge at police car or police officer', 'did mb reach into or otherwise directly interacted with police car', 'did dw fire gun repeatedly at mb while mb was down', 'did mb put his hands at his waist', 'did mb face dw when fired upon', 'was mb running away from dw when fired upon', 'was mb kneeling when fired upon', 'did mb put hands up when fired upon', 'how many shots were fired'], dtype='object')"
       ]
      }
     ],
     "prompt_number": 51
    }
   ],
   "metadata": {}
  }
 ]
}